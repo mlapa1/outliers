{
 "cells": [
  {
   "cell_type": "code",
   "execution_count": 1,
   "metadata": {},
   "outputs": [],
   "source": [
    "# Import some useful standard packages.\n",
    "import numpy as np\n",
    "import pandas as pd\n",
    "import matplotlib.pyplot as plt"
   ]
  },
  {
   "cell_type": "code",
   "execution_count": 2,
   "metadata": {},
   "outputs": [],
   "source": [
    "# Import our \"from scratch\" version of the Local Outlier Factor algorithm for outlier detection.\n",
    "from outliers.local_outlier_factor import LocalOutlierFactor"
   ]
  },
  {
   "cell_type": "code",
   "execution_count": 3,
   "metadata": {},
   "outputs": [
    {
     "data": {
      "text/html": [
       "<div>\n",
       "<style scoped>\n",
       "    .dataframe tbody tr th:only-of-type {\n",
       "        vertical-align: middle;\n",
       "    }\n",
       "\n",
       "    .dataframe tbody tr th {\n",
       "        vertical-align: top;\n",
       "    }\n",
       "\n",
       "    .dataframe thead th {\n",
       "        text-align: right;\n",
       "    }\n",
       "</style>\n",
       "<table border=\"1\" class=\"dataframe\">\n",
       "  <thead>\n",
       "    <tr style=\"text-align: right;\">\n",
       "      <th></th>\n",
       "      <th>transaction_hash</th>\n",
       "      <th>num_unique_input_addresses</th>\n",
       "      <th>total_input</th>\n",
       "      <th>transaction_fee</th>\n",
       "    </tr>\n",
       "  </thead>\n",
       "  <tbody>\n",
       "    <tr>\n",
       "      <th>0</th>\n",
       "      <td>3a1b9e330d32fef1ee42f8e86420d2be978bbe0dc5862f...</td>\n",
       "      <td>9</td>\n",
       "      <td>44200000000000</td>\n",
       "      <td>0</td>\n",
       "    </tr>\n",
       "    <tr>\n",
       "      <th>1</th>\n",
       "      <td>7d502b2f0323e481c9dcc2c02db2377430e31a71c9d182...</td>\n",
       "      <td>1</td>\n",
       "      <td>4769900000</td>\n",
       "      <td>0</td>\n",
       "    </tr>\n",
       "    <tr>\n",
       "      <th>2</th>\n",
       "      <td>c42c77955ffc9085af69a73788582d120b7afcc6f0da99...</td>\n",
       "      <td>1</td>\n",
       "      <td>3200000000</td>\n",
       "      <td>0</td>\n",
       "    </tr>\n",
       "    <tr>\n",
       "      <th>3</th>\n",
       "      <td>fec0b26081d6cab234a99a1be5ebebaf5fb3c7fda86a57...</td>\n",
       "      <td>1</td>\n",
       "      <td>5001150000</td>\n",
       "      <td>0</td>\n",
       "    </tr>\n",
       "    <tr>\n",
       "      <th>4</th>\n",
       "      <td>344cbe4e26dd0b18b8b1a9e313bd9d343b3a06f7f0a269...</td>\n",
       "      <td>1</td>\n",
       "      <td>199000000</td>\n",
       "      <td>100000</td>\n",
       "    </tr>\n",
       "    <tr>\n",
       "      <th>5</th>\n",
       "      <td>96a8d4574ee6d7e75a2e330ed0007b2b17d2d619f0ea94...</td>\n",
       "      <td>1</td>\n",
       "      <td>5007550000</td>\n",
       "      <td>0</td>\n",
       "    </tr>\n",
       "    <tr>\n",
       "      <th>6</th>\n",
       "      <td>6975ece908adfeefae3ae1faca3971862bcdb228e1f854...</td>\n",
       "      <td>1</td>\n",
       "      <td>101000000</td>\n",
       "      <td>0</td>\n",
       "    </tr>\n",
       "    <tr>\n",
       "      <th>7</th>\n",
       "      <td>77adf633e6ddc135d09772bb461ece494dd931c518dc84...</td>\n",
       "      <td>1</td>\n",
       "      <td>118403317773</td>\n",
       "      <td>0</td>\n",
       "    </tr>\n",
       "    <tr>\n",
       "      <th>8</th>\n",
       "      <td>4f72a247e75875e947c2ec695eda3600655c9378459e2a...</td>\n",
       "      <td>1</td>\n",
       "      <td>100689082423</td>\n",
       "      <td>0</td>\n",
       "    </tr>\n",
       "    <tr>\n",
       "      <th>9</th>\n",
       "      <td>e65a312ef36468b1232b2336a7ee55ea0c6687a0be442c...</td>\n",
       "      <td>1</td>\n",
       "      <td>849000000</td>\n",
       "      <td>0</td>\n",
       "    </tr>\n",
       "  </tbody>\n",
       "</table>\n",
       "</div>"
      ],
      "text/plain": [
       "                                    transaction_hash  \\\n",
       "0  3a1b9e330d32fef1ee42f8e86420d2be978bbe0dc5862f...   \n",
       "1  7d502b2f0323e481c9dcc2c02db2377430e31a71c9d182...   \n",
       "2  c42c77955ffc9085af69a73788582d120b7afcc6f0da99...   \n",
       "3  fec0b26081d6cab234a99a1be5ebebaf5fb3c7fda86a57...   \n",
       "4  344cbe4e26dd0b18b8b1a9e313bd9d343b3a06f7f0a269...   \n",
       "5  96a8d4574ee6d7e75a2e330ed0007b2b17d2d619f0ea94...   \n",
       "6  6975ece908adfeefae3ae1faca3971862bcdb228e1f854...   \n",
       "7  77adf633e6ddc135d09772bb461ece494dd931c518dc84...   \n",
       "8  4f72a247e75875e947c2ec695eda3600655c9378459e2a...   \n",
       "9  e65a312ef36468b1232b2336a7ee55ea0c6687a0be442c...   \n",
       "\n",
       "   num_unique_input_addresses     total_input  transaction_fee  \n",
       "0                           9  44200000000000                0  \n",
       "1                           1      4769900000                0  \n",
       "2                           1      3200000000                0  \n",
       "3                           1      5001150000                0  \n",
       "4                           1       199000000           100000  \n",
       "5                           1      5007550000                0  \n",
       "6                           1       101000000                0  \n",
       "7                           1    118403317773                0  \n",
       "8                           1    100689082423                0  \n",
       "9                           1       849000000                0  "
      ]
     },
     "execution_count": 3,
     "metadata": {},
     "output_type": "execute_result"
    }
   ],
   "source": [
    "# Import our processed data for block 132749. This block has 45 transactions.\n",
    "block_132749_data = pd.read_csv('block_132749_data.csv', header = 0)\n",
    "# Display the first 10 entries. Note that all currency amounts are given in Satoshi, where \n",
    "# 1 BTC = 100,000,000 Satoshi\n",
    "block_132749_data.head(10)"
   ]
  },
  {
   "cell_type": "code",
   "execution_count": 4,
   "metadata": {},
   "outputs": [],
   "source": [
    "# Make a numpy array containing the numerical columns of the data.\n",
    "X = block_132749_data[['num_unique_input_addresses', 'total_input', 'transaction_fee']].to_numpy()\n",
    "\n",
    "# Normalize the columns by dividing by their maximum value.\n",
    "max_by_col = np.amax(X, axis = 0)\n",
    "X = X / max_by_col"
   ]
  },
  {
   "cell_type": "code",
   "execution_count": 5,
   "metadata": {},
   "outputs": [],
   "source": [
    "# Create a LocalOutlierFactor object from our custom package outliers.\n",
    "lof = LocalOutlierFactor()\n",
    "# Fit to the data and compute local outlier factors using the 20-neighborhood (roughly, the 20 nearest neighbors) \n",
    "# of each data point.\n",
    "lof.fit(X)\n",
    "z = lof.get_LOF(20)"
   ]
  },
  {
   "cell_type": "code",
   "execution_count": 6,
   "metadata": {},
   "outputs": [],
   "source": [
    "# Note: It is important to experiment with different choices of the number k of nearest neighbors (k is the argument of\n",
    "# the get_LOF(k) method) to use when computing the local outlier factors. If k is chosen to be too small, then data points\n",
    "# will not \"feel\" enough of their neighbors to get an accurate sense of the distribution of the data. On the other hand,\n",
    "# if k is chosen to be too large, then the algorithm may think that all the data points belong to the same cluster."
   ]
  },
  {
   "cell_type": "code",
   "execution_count": 7,
   "metadata": {},
   "outputs": [
    {
     "data": {
      "image/png": "[encoded data removed]",
      "text/plain": [
       "<Figure size 432x288 with 1 Axes>"
      ]
     },
     "metadata": {
      "needs_background": "light"
     },
     "output_type": "display_data"
    }
   ],
   "source": [
    "# Make some plots to visualize the local outlier factors of each point. We represent each point with a blue dot and\n",
    "# the size of the local outlier factor of a data point is represented by the radius of a red circle around that point.\n",
    "\n",
    "radius = (z - z.min()) / (z.max() - z.min())\n",
    "ep = 0.5\n",
    "x_min = X[:, 0].min() - ep\n",
    "x_max = X[:, 0].max() + ep\n",
    "y_min = X[:, 1].min() - ep\n",
    "y_max = X[:, 1].max() + ep\n",
    "\n",
    "plt.scatter(X[:, 0], X[:, 1], c = 'b', marker = \".\")\n",
    "plt.scatter(X[:, 0], X[:, 1], s = 500 * radius, edgecolors = 'r', facecolors = 'None')\n",
    "plt.axis([x_min, x_max, y_min, y_max])\n",
    "plt.xlabel('Number of unique input addresses (normalized)')\n",
    "plt.ylabel('Total input amount (normalized)')\n",
    "plt.show()"
   ]
  },
  {
   "cell_type": "code",
   "execution_count": 8,
   "metadata": {
    "scrolled": true
   },
   "outputs": [
    {
     "data": {
      "image/png": "[encoded data removed]",
      "text/plain": [
       "<Figure size 432x288 with 1 Axes>"
      ]
     },
     "metadata": {
      "needs_background": "light"
     },
     "output_type": "display_data"
    }
   ],
   "source": [
    "radius = (z - z.min()) / (z.max() - z.min())\n",
    "ep = 0.5\n",
    "x_min = X[:, 0].min() - ep\n",
    "x_max = X[:, 0].max() + ep\n",
    "y_min = X[:, 2].min() - ep\n",
    "y_max = X[:, 2].max() + ep\n",
    "\n",
    "plt.scatter(X[:, 0], X[:, 2], c = 'b', marker = \".\")\n",
    "plt.scatter(X[:, 0], X[:, 2], s = 500 * radius, edgecolors = 'r', facecolors = 'None')\n",
    "plt.axis([x_min, x_max, y_min, y_max])\n",
    "plt.xlabel('Number of unique input addresses (normalized)')\n",
    "plt.ylabel('Transaction fee (normalized)')\n",
    "plt.show()"
   ]
  },
  {
   "cell_type": "code",
   "execution_count": 9,
   "metadata": {},
   "outputs": [
    {
     "data": {
      "image/png": "[encoded data removed]",
      "text/plain": [
       "<Figure size 432x288 with 1 Axes>"
      ]
     },
     "metadata": {
      "needs_background": "light"
     },
     "output_type": "display_data"
    }
   ],
   "source": [
    "radius = (z - z.min()) / (z.max() - z.min())\n",
    "ep = 0.5\n",
    "x_min = X[:, 1].min() - ep\n",
    "x_max = X[:, 1].max() + ep\n",
    "y_min = X[:, 2].min() - ep\n",
    "y_max = X[:, 2].max() + ep\n",
    "\n",
    "plt.scatter(X[:, 1], X[:, 2], c = 'b', marker = \".\")\n",
    "plt.scatter(X[:, 1], X[:, 2], s = 500 * radius, edgecolors = 'r', facecolors = 'None')\n",
    "plt.axis([x_min, x_max, y_min, y_max])\n",
    "plt.xlabel('Total input amount (normalized)')\n",
    "plt.ylabel('Transaction fee (normalized)')\n",
    "plt.show()"
   ]
  },
  {
   "cell_type": "code",
   "execution_count": 10,
   "metadata": {},
   "outputs": [
    {
     "name": "stdout",
     "output_type": "stream",
     "text": [
      "                                    transaction_hash  \\\n",
      "0  3a1b9e330d32fef1ee42f8e86420d2be978bbe0dc5862f...   \n",
      "\n",
      "   num_unique_input_addresses     total_input  transaction_fee  \n",
      "0                           9  44200000000000                0  \n"
     ]
    }
   ],
   "source": [
    "# The transaction with the largest local outlier factor (the biggest red circle in the plots above) is exactly the famous \n",
    "# transaction attributed to the Mt. Gox CEO Mark Karpeles as described in this article: \n",
    "# https://news.bitcoin.com/eight-historic-bitcoin-transactions/\n",
    "\n",
    "i_max = np.argmax(z, axis = 0)\n",
    "print(block_132749_data.iloc[i_max])"
   ]
  },
  {
   "cell_type": "code",
   "execution_count": 11,
   "metadata": {},
   "outputs": [
    {
     "data": {
      "text/html": [
       "<div>\n",
       "<style scoped>\n",
       "    .dataframe tbody tr th:only-of-type {\n",
       "        vertical-align: middle;\n",
       "    }\n",
       "\n",
       "    .dataframe tbody tr th {\n",
       "        vertical-align: top;\n",
       "    }\n",
       "\n",
       "    .dataframe thead th {\n",
       "        text-align: right;\n",
       "    }\n",
       "</style>\n",
       "<table border=\"1\" class=\"dataframe\">\n",
       "  <thead>\n",
       "    <tr style=\"text-align: right;\">\n",
       "      <th></th>\n",
       "      <th>transaction_hash</th>\n",
       "      <th>num_unique_input_addresses</th>\n",
       "      <th>total_input</th>\n",
       "      <th>transaction_fee</th>\n",
       "    </tr>\n",
       "  </thead>\n",
       "  <tbody>\n",
       "    <tr>\n",
       "      <th>0</th>\n",
       "      <td>ec05c8f1c93952bea9855cbb2515100b897f3b4d49c698...</td>\n",
       "      <td>1</td>\n",
       "      <td>13200000000</td>\n",
       "      <td>0</td>\n",
       "    </tr>\n",
       "    <tr>\n",
       "      <th>1</th>\n",
       "      <td>c7b5eabf94f3f3e583e6280d98870fffafefe71d3aa3aa...</td>\n",
       "      <td>3</td>\n",
       "      <td>4000000000</td>\n",
       "      <td>0</td>\n",
       "    </tr>\n",
       "    <tr>\n",
       "      <th>2</th>\n",
       "      <td>9801db1843f8eca9c6cceb19d0fe80d462fcf68aa1338e...</td>\n",
       "      <td>1</td>\n",
       "      <td>3433135190</td>\n",
       "      <td>0</td>\n",
       "    </tr>\n",
       "    <tr>\n",
       "      <th>3</th>\n",
       "      <td>b59fa7c4b91ff9e325ac0d826706cb24b899974191961f...</td>\n",
       "      <td>1</td>\n",
       "      <td>12961730000</td>\n",
       "      <td>0</td>\n",
       "    </tr>\n",
       "    <tr>\n",
       "      <th>4</th>\n",
       "      <td>62c45138d69e83b4009798bb60953e80c9fe5e0c010c21...</td>\n",
       "      <td>2</td>\n",
       "      <td>2001900000</td>\n",
       "      <td>300000</td>\n",
       "    </tr>\n",
       "    <tr>\n",
       "      <th>5</th>\n",
       "      <td>b23dc2968b53b1016fffc07faa1128d31dd4e5c7f471f1...</td>\n",
       "      <td>1</td>\n",
       "      <td>8000000000</td>\n",
       "      <td>0</td>\n",
       "    </tr>\n",
       "    <tr>\n",
       "      <th>6</th>\n",
       "      <td>cd80b5f4d2d5898f5a23e25d20bdc1b8a2e732887ff4cb...</td>\n",
       "      <td>1</td>\n",
       "      <td>3301075669</td>\n",
       "      <td>0</td>\n",
       "    </tr>\n",
       "    <tr>\n",
       "      <th>7</th>\n",
       "      <td>9cca0040f588212ea37ec2356da7f0db93075304873bf7...</td>\n",
       "      <td>1</td>\n",
       "      <td>2651925353</td>\n",
       "      <td>0</td>\n",
       "    </tr>\n",
       "    <tr>\n",
       "      <th>8</th>\n",
       "      <td>ba985a2871d0c51f422968446c2cf2e6ad0578afce534a...</td>\n",
       "      <td>3</td>\n",
       "      <td>5028500323</td>\n",
       "      <td>0</td>\n",
       "    </tr>\n",
       "    <tr>\n",
       "      <th>9</th>\n",
       "      <td>f17ed8432ea4ce725e5da7bd2192280ca2582060517110...</td>\n",
       "      <td>2</td>\n",
       "      <td>3034146890</td>\n",
       "      <td>30000</td>\n",
       "    </tr>\n",
       "  </tbody>\n",
       "</table>\n",
       "</div>"
      ],
      "text/plain": [
       "                                    transaction_hash  \\\n",
       "0  ec05c8f1c93952bea9855cbb2515100b897f3b4d49c698...   \n",
       "1  c7b5eabf94f3f3e583e6280d98870fffafefe71d3aa3aa...   \n",
       "2  9801db1843f8eca9c6cceb19d0fe80d462fcf68aa1338e...   \n",
       "3  b59fa7c4b91ff9e325ac0d826706cb24b899974191961f...   \n",
       "4  62c45138d69e83b4009798bb60953e80c9fe5e0c010c21...   \n",
       "5  b23dc2968b53b1016fffc07faa1128d31dd4e5c7f471f1...   \n",
       "6  cd80b5f4d2d5898f5a23e25d20bdc1b8a2e732887ff4cb...   \n",
       "7  9cca0040f588212ea37ec2356da7f0db93075304873bf7...   \n",
       "8  ba985a2871d0c51f422968446c2cf2e6ad0578afce534a...   \n",
       "9  f17ed8432ea4ce725e5da7bd2192280ca2582060517110...   \n",
       "\n",
       "   num_unique_input_addresses  total_input  transaction_fee  \n",
       "0                           1  13200000000                0  \n",
       "1                           3   4000000000                0  \n",
       "2                           1   3433135190                0  \n",
       "3                           1  12961730000                0  \n",
       "4                           2   2001900000           300000  \n",
       "5                           1   8000000000                0  \n",
       "6                           1   3301075669                0  \n",
       "7                           1   2651925353                0  \n",
       "8                           3   5028500323                0  \n",
       "9                           2   3034146890            30000  "
      ]
     },
     "execution_count": 11,
     "metadata": {},
     "output_type": "execute_result"
    }
   ],
   "source": [
    "# Next, let's look at our processed data for block 236502. This block has 1,181 transactions.\n",
    "block_236502_data = pd.read_csv('block_236502_data.csv', header = 0)\n",
    "# Display the first 10 entries.\n",
    "block_236502_data.head(10)"
   ]
  },
  {
   "cell_type": "code",
   "execution_count": 12,
   "metadata": {},
   "outputs": [],
   "source": [
    "# We'll move this data to a numpy array in the same way as before.\n",
    "X = block_236502_data[['num_unique_input_addresses', 'total_input', 'transaction_fee']].to_numpy()\n",
    "max_by_col = np.amax(X, axis = 0)\n",
    "X = X / max_by_col"
   ]
  },
  {
   "cell_type": "code",
   "execution_count": 13,
   "metadata": {},
   "outputs": [],
   "source": [
    "# Fit lof to the new data and compute local outlier factors using the 100-neighborhood (roughly, the 100 nearest neighbors) \n",
    "# of each data point. See the note above about experimenting with the number of neighbors to use.\n",
    "lof.fit(X)\n",
    "z = lof.get_LOF(100)"
   ]
  },
  {
   "cell_type": "code",
   "execution_count": 14,
   "metadata": {},
   "outputs": [
    {
     "data": {
      "image/png": "[encoded data removed]",
      "text/plain": [
       "<Figure size 432x288 with 1 Axes>"
      ]
     },
     "metadata": {
      "needs_background": "light"
     },
     "output_type": "display_data"
    }
   ],
   "source": [
    "# Make some plots to visualize the local outlier factors of each point. We represent each point with a blue dot and\n",
    "# the size of the local outlier factor of a data point is represented by the radius of a red circle around that point.\n",
    "\n",
    "radius = (z - z.min()) / (z.max() - z.min())\n",
    "ep = 0.5\n",
    "x_min = X[:, 0].min() - ep\n",
    "x_max = X[:, 0].max() + ep\n",
    "y_min = X[:, 1].min() - ep\n",
    "y_max = X[:, 1].max() + ep\n",
    "\n",
    "plt.scatter(X[:, 0], X[:, 1], c = 'b', marker = \".\")\n",
    "plt.scatter(X[:, 0], X[:, 1], s = 300 * radius, edgecolors = 'r', facecolors = 'None')\n",
    "plt.axis([x_min, x_max, y_min, y_max])\n",
    "plt.xlabel('Number of unique input addresses (normalized)')\n",
    "plt.ylabel('Total input amount (normalized)')\n",
    "plt.show()"
   ]
  },
  {
   "cell_type": "code",
   "execution_count": 15,
   "metadata": {},
   "outputs": [
    {
     "data": {
      "image/png": "[encoded data removed]",
      "text/plain": [
       "<Figure size 432x288 with 1 Axes>"
      ]
     },
     "metadata": {
      "needs_background": "light"
     },
     "output_type": "display_data"
    }
   ],
   "source": [
    "radius = (z - z.min()) / (z.max() - z.min())\n",
    "ep = 0.5\n",
    "x_min = X[:, 0].min() - ep\n",
    "x_max = X[:, 0].max() + ep\n",
    "y_min = X[:, 2].min() - ep\n",
    "y_max = X[:, 2].max() + ep\n",
    "\n",
    "plt.scatter(X[:, 0], X[:, 2], c = 'b', marker = \".\")\n",
    "plt.scatter(X[:, 0], X[:, 2], s = 300 * radius, edgecolors = 'r', facecolors = 'None')\n",
    "plt.axis([x_min, x_max, y_min, y_max])\n",
    "plt.xlabel('Number of unique input addresses (normalized)')\n",
    "plt.ylabel('Transaction fee (normalized)')\n",
    "plt.show()"
   ]
  },
  {
   "cell_type": "code",
   "execution_count": 16,
   "metadata": {},
   "outputs": [
    {
     "data": {
      "image/png": "[encoded data removed]",
      "text/plain": [
       "<Figure size 432x288 with 1 Axes>"
      ]
     },
     "metadata": {
      "needs_background": "light"
     },
     "output_type": "display_data"
    }
   ],
   "source": [
    "radius = (z - z.min()) / (z.max() - z.min())\n",
    "ep = 0.5\n",
    "x_min = X[:, 1].min() - ep\n",
    "x_max = X[:, 1].max() + ep\n",
    "y_min = X[:, 2].min() - ep\n",
    "y_max = X[:, 2].max() + ep\n",
    "\n",
    "plt.scatter(X[:, 1], X[:, 2], c = 'b', marker = \".\")\n",
    "plt.scatter(X[:, 1], X[:, 2], s = 300 * radius, edgecolors = 'r', facecolors = 'None')\n",
    "plt.axis([x_min, x_max, y_min, y_max])\n",
    "plt.xlabel('Total input amount (normalized)')\n",
    "plt.ylabel('Transaction fee (normalized)')\n",
    "plt.show()"
   ]
  },
  {
   "cell_type": "code",
   "execution_count": 17,
   "metadata": {},
   "outputs": [
    {
     "name": "stdout",
     "output_type": "stream",
     "text": [
      "                                     transaction_hash  \\\n",
      "69  7e8fce9686572d8308d8c40fa3cb96fdbf96c0787c147d...   \n",
      "\n",
      "    num_unique_input_addresses  total_input  transaction_fee  \n",
      "69                           1   9814302082       3000000000  \n"
     ]
    }
   ],
   "source": [
    "# The transaction with the largest local outlier factor (the biggest red circle in the plots above -- it is hidden in the\n",
    "# lower left of the first plot) is exactly the famous transaction with the accidental very large (30 BTC) transaction fee, \n",
    "# as described in this article: https://news.bitcoin.com/eight-historic-bitcoin-transactions/\n",
    "\n",
    "i_max = np.argmax(z, axis = 0)\n",
    "print(block_236502_data.iloc[i_max])"
   ]
  }
 ],
 "metadata": {
  "kernelspec": {
   "display_name": "Python 3",
   "language": "python",
   "name": "python3"
  },
  "language_info": {
   "codemirror_mode": {
    "name": "ipython",
    "version": 3
   },
   "file_extension": ".py",
   "mimetype": "text/x-python",
   "name": "python",
   "nbconvert_exporter": "python",
   "pygments_lexer": "ipython3",
   "version": "3.8.3"
  }
 },
 "nbformat": 4,
 "nbformat_minor": 4
}
